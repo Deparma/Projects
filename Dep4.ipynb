{
 "cells": [
  {
   "cell_type": "code",
   "execution_count": 1,
   "metadata": {},
   "outputs": [],
   "source": [
    "import pandas as pd\n",
    "import numpy as np\n",
    "from implicit.nearest_neighbours import BM25Recommender\n",
    "import scipy.sparse as sp"
   ]
  },
  {
   "cell_type": "code",
   "execution_count": 2,
   "metadata": {},
   "outputs": [],
   "source": [
    "sample_submission = pd.read_csv('sample_submission.csv')\n",
    "interactions = pd.read_csv('interactions.csv')\n",
    "items = pd.read_csv('items.csv')\n",
    "users = pd.read_csv('users.csv')"
   ]
  },
  {
   "cell_type": "code",
   "execution_count": 3,
   "metadata": {},
   "outputs": [
    {
     "data": {
      "text/html": [
       "<div>\n",
       "<style scoped>\n",
       "    .dataframe tbody tr th:only-of-type {\n",
       "        vertical-align: middle;\n",
       "    }\n",
       "\n",
       "    .dataframe tbody tr th {\n",
       "        vertical-align: top;\n",
       "    }\n",
       "\n",
       "    .dataframe thead th {\n",
       "        text-align: right;\n",
       "    }\n",
       "</style>\n",
       "<table border=\"1\" class=\"dataframe\">\n",
       "  <thead>\n",
       "    <tr style=\"text-align: right;\">\n",
       "      <th></th>\n",
       "      <th>user_id</th>\n",
       "      <th>item_id</th>\n",
       "      <th>progress</th>\n",
       "      <th>rating</th>\n",
       "      <th>start_date</th>\n",
       "    </tr>\n",
       "  </thead>\n",
       "  <tbody>\n",
       "    <tr>\n",
       "      <th>0</th>\n",
       "      <td>90133</td>\n",
       "      <td>82910</td>\n",
       "      <td>100</td>\n",
       "      <td>NaN</td>\n",
       "      <td>2018-01-01</td>\n",
       "    </tr>\n",
       "    <tr>\n",
       "      <th>1</th>\n",
       "      <td>159130</td>\n",
       "      <td>331068</td>\n",
       "      <td>70</td>\n",
       "      <td>NaN</td>\n",
       "      <td>2018-01-01</td>\n",
       "    </tr>\n",
       "    <tr>\n",
       "      <th>2</th>\n",
       "      <td>80061</td>\n",
       "      <td>26540</td>\n",
       "      <td>69</td>\n",
       "      <td>4.0</td>\n",
       "      <td>2018-01-01</td>\n",
       "    </tr>\n",
       "    <tr>\n",
       "      <th>3</th>\n",
       "      <td>12811</td>\n",
       "      <td>301895</td>\n",
       "      <td>16</td>\n",
       "      <td>NaN</td>\n",
       "      <td>2018-01-01</td>\n",
       "    </tr>\n",
       "    <tr>\n",
       "      <th>4</th>\n",
       "      <td>5778</td>\n",
       "      <td>127872</td>\n",
       "      <td>100</td>\n",
       "      <td>NaN</td>\n",
       "      <td>2018-01-01</td>\n",
       "    </tr>\n",
       "    <tr>\n",
       "      <th>...</th>\n",
       "      <td>...</td>\n",
       "      <td>...</td>\n",
       "      <td>...</td>\n",
       "      <td>...</td>\n",
       "      <td>...</td>\n",
       "    </tr>\n",
       "    <tr>\n",
       "      <th>1562500</th>\n",
       "      <td>160045</td>\n",
       "      <td>291585</td>\n",
       "      <td>85</td>\n",
       "      <td>NaN</td>\n",
       "      <td>2018-02-25</td>\n",
       "    </tr>\n",
       "    <tr>\n",
       "      <th>1562501</th>\n",
       "      <td>161224</td>\n",
       "      <td>7819</td>\n",
       "      <td>58</td>\n",
       "      <td>NaN</td>\n",
       "      <td>2018-04-25</td>\n",
       "    </tr>\n",
       "    <tr>\n",
       "      <th>1562502</th>\n",
       "      <td>163719</td>\n",
       "      <td>27040</td>\n",
       "      <td>99</td>\n",
       "      <td>NaN</td>\n",
       "      <td>2018-05-11</td>\n",
       "    </tr>\n",
       "    <tr>\n",
       "      <th>1562503</th>\n",
       "      <td>165754</td>\n",
       "      <td>303933</td>\n",
       "      <td>42</td>\n",
       "      <td>0.0</td>\n",
       "      <td>2018-08-09</td>\n",
       "    </tr>\n",
       "    <tr>\n",
       "      <th>1562504</th>\n",
       "      <td>165939</td>\n",
       "      <td>16044</td>\n",
       "      <td>98</td>\n",
       "      <td>0.0</td>\n",
       "      <td>2018-10-11</td>\n",
       "    </tr>\n",
       "  </tbody>\n",
       "</table>\n",
       "<p>1562505 rows × 5 columns</p>\n",
       "</div>"
      ],
      "text/plain": [
       "         user_id  item_id  progress  rating  start_date\n",
       "0          90133    82910       100     NaN  2018-01-01\n",
       "1         159130   331068        70     NaN  2018-01-01\n",
       "2          80061    26540        69     4.0  2018-01-01\n",
       "3          12811   301895        16     NaN  2018-01-01\n",
       "4           5778   127872       100     NaN  2018-01-01\n",
       "...          ...      ...       ...     ...         ...\n",
       "1562500   160045   291585        85     NaN  2018-02-25\n",
       "1562501   161224     7819        58     NaN  2018-04-25\n",
       "1562502   163719    27040        99     NaN  2018-05-11\n",
       "1562503   165754   303933        42     0.0  2018-08-09\n",
       "1562504   165939    16044        98     0.0  2018-10-11\n",
       "\n",
       "[1562505 rows x 5 columns]"
      ]
     },
     "execution_count": 3,
     "metadata": {},
     "output_type": "execute_result"
    }
   ],
   "source": [
    "repeat = interactions.duplicated(subset=['user_id', 'item_id'], keep=False)\n",
    "interactions_repeat = interactions[repeat].sort_values(by=['user_id', 'start_date'])\n",
    "interactions = interactions[~repeat]\n",
    "\n",
    "interactions_repeat = interactions_repeat.groupby(['user_id', 'item_id']).agg({\n",
    "    'progress': 'max',\n",
    "    'rating': 'max',\n",
    "    'start_date': 'min'})\n",
    "\n",
    "interactions = interactions.append(interactions_repeat.reset_index(), ignore_index=True)\n",
    "interactions"
   ]
  },
  {
   "cell_type": "code",
   "execution_count": 4,
   "metadata": {},
   "outputs": [],
   "source": [
    "diff = np.setdiff1d(users['user_id'], interactions['user_id'].unique())\n",
    "num_users = len(users['user_id'])\n",
    "for i, user_id in enumerate(users['user_id']):\n",
    "    if user_id in diff:\n",
    "        users = users.drop(i)"
   ]
  },
  {
   "cell_type": "code",
   "execution_count": 5,
   "metadata": {},
   "outputs": [],
   "source": [
    "diff = np.setdiff1d(interactions['user_id'].unique(), users['user_id'])\n",
    "unknowns = ['unknown' for _ in range(len(diff))]\n",
    "users_with_interactions = pd.DataFrame(list(zip(diff, unknowns, unknowns)),\n",
    "                                       columns=users.columns)\n",
    "users = users.append(users_with_interactions)"
   ]
  },
  {
   "cell_type": "code",
   "execution_count": 6,
   "metadata": {},
   "outputs": [],
   "source": [
    "num_interactions = []\n",
    "for user in users['user_id']:\n",
    "    num_interactions.append(len(interactions[interactions['user_id'] == user]))\n",
    "users['num_its'] = num_interactions"
   ]
  },
  {
   "cell_type": "code",
   "execution_count": 7,
   "metadata": {},
   "outputs": [],
   "source": [
    "class Popular_Recommender():\n",
    "    def __init__(self, max_K=100, days=30, item_column='item_id', dt_column='date'):\n",
    "        self.max_K = max_K\n",
    "        self.days = days\n",
    "        self.item_column = item_column\n",
    "        self.dt_column = dt_column\n",
    "        self.recommendations = []\n",
    "        \n",
    "    def fit(self, df):\n",
    "        min_date = pd.to_datetime(df[self.dt_column]).max().normalize() - pd.DateOffset(days=self.days)\n",
    "        self.recommendations = df.loc[pd.to_datetime(df[self.dt_column]) > min_date, self.item_column].value_counts().head(self.max_K).index.values"
   ]
  },
  {
   "cell_type": "code",
   "execution_count": 8,
   "metadata": {},
   "outputs": [],
   "source": [
    "pr = Popular_Recommender(days=10, dt_column='start_date')\n",
    "pr.fit(interactions)\n",
    "populars = list(pr.recommendations[:10])"
   ]
  },
  {
   "cell_type": "code",
   "execution_count": 9,
   "metadata": {},
   "outputs": [],
   "source": [
    "dropped_users = []\n",
    "n_interactions = 4\n",
    "\n",
    "for user in sample_submission['Id']:\n",
    "    if user not in users['user_id'].unique():\n",
    "        dropped_users.append(user)\n",
    "    elif users[users['user_id'] == user]['num_its'].item() < n_interactions:\n",
    "        dropped_users.append(user)"
   ]
  },
  {
   "cell_type": "code",
   "execution_count": 10,
   "metadata": {},
   "outputs": [],
   "source": [
    "remained_users = users[users['user_id'].isin(np.setdiff1d(sample_submission['Id'], dropped_users))]"
   ]
  },
  {
   "cell_type": "code",
   "execution_count": 11,
   "metadata": {},
   "outputs": [
    {
     "data": {
      "text/plain": [
       "(2792, 282)"
      ]
     },
     "execution_count": 11,
     "metadata": {},
     "output_type": "execute_result"
    }
   ],
   "source": [
    "len(remained_users), len(dropped_users)"
   ]
  },
  {
   "cell_type": "code",
   "execution_count": 12,
   "metadata": {},
   "outputs": [],
   "source": [
    "def get_coo_matrix(interactions, \n",
    "                   users_mapping, \n",
    "                   items_mapping,\n",
    "                   user_col='user_id', \n",
    "                   item_col='item_id', \n",
    "                   weight_col=None):\n",
    "    if weight_col is None:\n",
    "        weights = np.ones(len(interactions), dtype=np.float32)\n",
    "    else:\n",
    "        weights = interactions[weight_col].astype(np.float32)\n",
    "\n",
    "    interaction_matrix = sp.coo_matrix((\n",
    "        weights, \n",
    "        (\n",
    "            interactions[user_col].map(users_mapping.get), \n",
    "            interactions[item_col].map(items_mapping.get)\n",
    "        )\n",
    "    ))\n",
    "    return interaction_matrix\n",
    "\n",
    "def make_mapping(data):\n",
    "    return dict([(v, k) for k, v in enumerate(data)])"
   ]
  },
  {
   "cell_type": "code",
   "execution_count": 13,
   "metadata": {},
   "outputs": [],
   "source": [
    "items_mapping = make_mapping(items['id'].unique())\n",
    "users_mapping = make_mapping(interactions['user_id'].unique())\n",
    "\n",
    "items_inv_mapping = dict({(v, k) for k, v in items_mapping.items()})"
   ]
  },
  {
   "cell_type": "code",
   "execution_count": 14,
   "metadata": {},
   "outputs": [],
   "source": [
    "interactions_matrix = get_coo_matrix(interactions, \n",
    "                                     users_mapping=users_mapping, \n",
    "                                     items_mapping=items_mapping).tocsr()"
   ]
  },
  {
   "cell_type": "code",
   "execution_count": 15,
   "metadata": {},
   "outputs": [
    {
     "data": {
      "application/vnd.jupyter.widget-view+json": {
       "model_id": "788cd71b4a17439cb5be74dc8601fae2",
       "version_major": 2,
       "version_minor": 0
      },
      "text/plain": [
       "HBox(children=(HTML(value=''), FloatProgress(value=0.0, max=63758.0), HTML(value='')))"
      ]
     },
     "metadata": {},
     "output_type": "display_data"
    },
    {
     "name": "stdout",
     "output_type": "stream",
     "text": [
      "\n"
     ]
    }
   ],
   "source": [
    "imp_model = BM25Recommender(K=10)\n",
    "imp_model.fit(interactions_matrix.T)"
   ]
  },
  {
   "cell_type": "code",
   "execution_count": 16,
   "metadata": {},
   "outputs": [],
   "source": [
    "top_n = 10\n",
    "\n",
    "total_preds = {}\n",
    "for user in remained_users['user_id']:\n",
    "    preds = imp_model.recommend(users_mapping[user], interactions_matrix, \n",
    "                               N=top_n, filter_already_liked_items=True)\n",
    "    preds = [items_inv_mapping[pred[0]] for pred in preds]\n",
    "    \n",
    "    total_preds[user] = preds"
   ]
  },
  {
   "cell_type": "code",
   "execution_count": 17,
   "metadata": {},
   "outputs": [],
   "source": [
    "for user in dropped_users:\n",
    "    total_preds[user] = populars"
   ]
  },
  {
   "cell_type": "code",
   "execution_count": 18,
   "metadata": {},
   "outputs": [],
   "source": [
    "submission = pd.DataFrame({'Id': sample_submission['Id']})\n",
    "submission['Predicted'] = [total_preds[user] for user in submission['Id']]\n",
    "submission['Predicted'] = submission['Predicted'].apply(lambda x: ' '.join(map(str, x)))"
   ]
  },
  {
   "cell_type": "code",
   "execution_count": 19,
   "metadata": {},
   "outputs": [],
   "source": [
    "submission.to_csv('submission_4.csv', index=False)"
   ]
  },
  {
   "cell_type": "code",
   "execution_count": null,
   "metadata": {},
   "outputs": [],
   "source": []
  }
 ],
 "metadata": {
  "kernelspec": {
   "display_name": "Python 3",
   "language": "python",
   "name": "python3"
  },
  "language_info": {
   "codemirror_mode": {
    "name": "ipython",
    "version": 3
   },
   "file_extension": ".py",
   "mimetype": "text/x-python",
   "name": "python",
   "nbconvert_exporter": "python",
   "pygments_lexer": "ipython3",
   "version": "3.8.5"
  }
 },
 "nbformat": 4,
 "nbformat_minor": 4
}
