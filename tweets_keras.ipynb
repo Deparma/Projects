{
  "nbformat": 4,
  "nbformat_minor": 0,
  "metadata": {
    "colab": {
      "name": "tweets_keras.ipynb",
      "provenance": []
    },
    "kernelspec": {
      "name": "python3",
      "display_name": "Python 3"
    },
    "language_info": {
      "name": "python"
    },
    "accelerator": "GPU"
  },
  "cells": [
    {
      "cell_type": "code",
      "metadata": {
        "id": "7qIGoX0kUgCB"
      },
      "source": [
        "import pandas as pd\n",
        "import numpy as np\n",
        "import tensorflow as tf\n",
        "import keras.backend as K\n",
        "from keras.preprocessing import sequence\n",
        "from keras.models import Sequential\n",
        "from keras.layers import Dense, Activation, Embedding\n",
        "from keras.layers import LSTM, GRU, SimpleRNN\n",
        "from keras.datasets import imdb\n",
        "from keras.callbacks import History"
      ],
      "execution_count": 49,
      "outputs": []
    },
    {
      "cell_type": "code",
      "metadata": {
        "id": "YbI3kxirZeFK"
      },
      "source": [
        "train = pd.read_csv('/content/drive/MyDrive/Elbrus/train.csv')\n",
        "test = pd.read_csv('/content/drive/MyDrive/Elbrus/test.csv')\n",
        "df = pd.concat([train, test], axis=0)"
      ],
      "execution_count": 50,
      "outputs": []
    },
    {
      "cell_type": "code",
      "metadata": {
        "id": "cTt9fK-mUbOQ"
      },
      "source": [
        "# df_clean = pd.read_csv('/content/drive/MyDrive/Elbrus/clean_tweets')"
      ],
      "execution_count": 51,
      "outputs": []
    },
    {
      "cell_type": "code",
      "metadata": {
        "id": "KesF2og8aGIt"
      },
      "source": [
        "# df_x = df_clean[:len(train['target'])].drop('target', axis=1)\n",
        "# df_y = train['target']\n",
        "# df_test = df_clean[len(train['target']):]"
      ],
      "execution_count": 52,
      "outputs": []
    },
    {
      "cell_type": "code",
      "metadata": {
        "id": "p0gWPOAmbzdk"
      },
      "source": [
        "from sklearn.model_selection import train_test_split"
      ],
      "execution_count": 53,
      "outputs": []
    },
    {
      "cell_type": "code",
      "metadata": {
        "colab": {
          "base_uri": "https://localhost:8080/"
        },
        "id": "FqGWrnkybzl9",
        "outputId": "63a3f965-5875-4efc-a898-8617fcf207ae"
      },
      "source": [
        "x_train, x_valid, y_train, y_valid = train_test_split(train.text, train.target, test_size=0.3, random_state=1)\n",
        "x_train.shape, x_valid.shape, y_train.shape, y_valid.shape"
      ],
      "execution_count": 54,
      "outputs": [
        {
          "output_type": "execute_result",
          "data": {
            "text/plain": [
              "((5329,), (2284,), (5329,), (2284,))"
            ]
          },
          "metadata": {
            "tags": []
          },
          "execution_count": 54
        }
      ]
    },
    {
      "cell_type": "code",
      "metadata": {
        "id": "F3qKgDgNVMSq"
      },
      "source": [
        "history = History()\n",
        "np.random.seed(42)\n",
        "max_features = 1000"
      ],
      "execution_count": 55,
      "outputs": []
    },
    {
      "cell_type": "code",
      "metadata": {
        "id": "-rHEBZ0ph5_b"
      },
      "source": [
        "max_l = 150\n",
        "# for i in range(len(x_train)):\n",
        "#     if len(x_train.iloc[i]) > max_l: max_l = len(x_train.iloc[i])"
      ],
      "execution_count": 56,
      "outputs": []
    },
    {
      "cell_type": "code",
      "metadata": {
        "colab": {
          "base_uri": "https://localhost:8080/"
        },
        "id": "JoxSDmcAh6Qr",
        "outputId": "8ea2bc47-b8c6-4d91-9945-35b18eb35757"
      },
      "source": [
        "max_l"
      ],
      "execution_count": 57,
      "outputs": [
        {
          "output_type": "execute_result",
          "data": {
            "text/plain": [
              "150"
            ]
          },
          "metadata": {
            "tags": []
          },
          "execution_count": 57
        }
      ]
    },
    {
      "cell_type": "code",
      "metadata": {
        "id": "uXAmzoMmadTJ"
      },
      "source": [
        "top_k = 850\n",
        "tokenizer = tf.keras.preprocessing.text.Tokenizer(num_words=top_k, \n",
        "                                                  # lower=False,\n",
        "                                                  oov_token=\"<unk>\",\n",
        "                                                  filters='!\"#$%&()*+.,-/:;=?@[\\]^_`{|}~ '\n",
        "                                                  )\n",
        "\n",
        "tokenizer.fit_on_texts(x_train)"
      ],
      "execution_count": 58,
      "outputs": []
    },
    {
      "cell_type": "code",
      "metadata": {
        "id": "51Zp1n22fxvO"
      },
      "source": [
        "x_train_seqs = tokenizer.texts_to_sequences(x_train)\n",
        "x_train = tf.keras.preprocessing.sequence.pad_sequences(x_train_seqs, maxlen=max_l)"
      ],
      "execution_count": 59,
      "outputs": []
    },
    {
      "cell_type": "code",
      "metadata": {
        "id": "D-xWGXuMges7"
      },
      "source": [
        "x_valid_seqs = tokenizer.texts_to_sequences(x_valid)\n",
        "x_valid = tf.keras.preprocessing.sequence.pad_sequences(x_valid_seqs, maxlen=max_l)"
      ],
      "execution_count": 60,
      "outputs": []
    },
    {
      "cell_type": "code",
      "metadata": {
        "id": "GJUI6hLQi9fY"
      },
      "source": [
        "model = Sequential()\n",
        "\n",
        "model.add(Embedding(max_features, 32))\n",
        "model.add(LSTM(25, dropout = 0.3))\n",
        "model.add(Dense(1, activation = 'sigmoid'))\n",
        "model.compile(loss = 'binary_crossentropy',\n",
        "              optimizer = 'adam',\n",
        "              metrics = ['accuracy', 'AUC'])"
      ],
      "execution_count": 61,
      "outputs": []
    },
    {
      "cell_type": "code",
      "metadata": {
        "colab": {
          "base_uri": "https://localhost:8080/"
        },
        "id": "GWyRiN8Ijkjk",
        "outputId": "729c0be8-69f5-4053-b51e-8b50605f3dfa"
      },
      "source": [
        "%%time\n",
        "history = model.fit(x_train, y_train, \n",
        "                    batch_size = 256,\n",
        "                    epochs = 50,\n",
        "                    validation_data = (x_valid, y_valid),\n",
        "                    verbose = 1, callbacks=[history]   )"
      ],
      "execution_count": 62,
      "outputs": [
        {
          "output_type": "stream",
          "text": [
            "Epoch 1/50\n",
            "21/21 [==============================] - 3s 54ms/step - loss: 0.6887 - accuracy: 0.5415 - auc: 0.5474 - val_loss: 0.6653 - val_accuracy: 0.5806 - val_auc: 0.7091\n",
            "Epoch 2/50\n",
            "21/21 [==============================] - 0s 19ms/step - loss: 0.6627 - accuracy: 0.5799 - auc: 0.6950 - val_loss: 0.6235 - val_accuracy: 0.6721 - val_auc: 0.7419\n",
            "Epoch 3/50\n",
            "21/21 [==============================] - 0s 18ms/step - loss: 0.6132 - accuracy: 0.6763 - auc: 0.7421 - val_loss: 0.5646 - val_accuracy: 0.7229 - val_auc: 0.7821\n",
            "Epoch 4/50\n",
            "21/21 [==============================] - 0s 17ms/step - loss: 0.5460 - accuracy: 0.7333 - auc: 0.8026 - val_loss: 0.5013 - val_accuracy: 0.7627 - val_auc: 0.8326\n",
            "Epoch 5/50\n",
            "21/21 [==============================] - 0s 17ms/step - loss: 0.4787 - accuracy: 0.7896 - auc: 0.8507 - val_loss: 0.4757 - val_accuracy: 0.7754 - val_auc: 0.8438\n",
            "Epoch 6/50\n",
            "21/21 [==============================] - 0s 17ms/step - loss: 0.4272 - accuracy: 0.8168 - auc: 0.8789 - val_loss: 0.4644 - val_accuracy: 0.7842 - val_auc: 0.8513\n",
            "Epoch 7/50\n",
            "21/21 [==============================] - 0s 17ms/step - loss: 0.4053 - accuracy: 0.8240 - auc: 0.8910 - val_loss: 0.4579 - val_accuracy: 0.7955 - val_auc: 0.8525\n",
            "Epoch 8/50\n",
            "21/21 [==============================] - 0s 17ms/step - loss: 0.3935 - accuracy: 0.8353 - auc: 0.8932 - val_loss: 0.4613 - val_accuracy: 0.7903 - val_auc: 0.8527\n",
            "Epoch 9/50\n",
            "21/21 [==============================] - 0s 16ms/step - loss: 0.3770 - accuracy: 0.8395 - auc: 0.9040 - val_loss: 0.4723 - val_accuracy: 0.7933 - val_auc: 0.8498\n",
            "Epoch 10/50\n",
            "21/21 [==============================] - 0s 16ms/step - loss: 0.3750 - accuracy: 0.8378 - auc: 0.9056 - val_loss: 0.4777 - val_accuracy: 0.7863 - val_auc: 0.8501\n",
            "Epoch 11/50\n",
            "21/21 [==============================] - 0s 17ms/step - loss: 0.3629 - accuracy: 0.8448 - auc: 0.9102 - val_loss: 0.4729 - val_accuracy: 0.7890 - val_auc: 0.8501\n",
            "Epoch 12/50\n",
            "21/21 [==============================] - 0s 16ms/step - loss: 0.3689 - accuracy: 0.8449 - auc: 0.9060 - val_loss: 0.4795 - val_accuracy: 0.7877 - val_auc: 0.8472\n",
            "Epoch 13/50\n",
            "21/21 [==============================] - 0s 16ms/step - loss: 0.3403 - accuracy: 0.8576 - auc: 0.9189 - val_loss: 0.4821 - val_accuracy: 0.7859 - val_auc: 0.8456\n",
            "Epoch 14/50\n",
            "21/21 [==============================] - 0s 17ms/step - loss: 0.3450 - accuracy: 0.8577 - auc: 0.9180 - val_loss: 0.4932 - val_accuracy: 0.7842 - val_auc: 0.8456\n",
            "Epoch 15/50\n",
            "21/21 [==============================] - 0s 16ms/step - loss: 0.3434 - accuracy: 0.8568 - auc: 0.9180 - val_loss: 0.4925 - val_accuracy: 0.7842 - val_auc: 0.8448\n",
            "Epoch 16/50\n",
            "21/21 [==============================] - 0s 16ms/step - loss: 0.3386 - accuracy: 0.8616 - auc: 0.9198 - val_loss: 0.5087 - val_accuracy: 0.7833 - val_auc: 0.8441\n",
            "Epoch 17/50\n",
            "21/21 [==============================] - 0s 17ms/step - loss: 0.3362 - accuracy: 0.8575 - auc: 0.9210 - val_loss: 0.5017 - val_accuracy: 0.7815 - val_auc: 0.8415\n",
            "Epoch 18/50\n",
            "21/21 [==============================] - 0s 17ms/step - loss: 0.3417 - accuracy: 0.8592 - auc: 0.9141 - val_loss: 0.5092 - val_accuracy: 0.7815 - val_auc: 0.8412\n",
            "Epoch 19/50\n",
            "21/21 [==============================] - 0s 16ms/step - loss: 0.3268 - accuracy: 0.8681 - auc: 0.9243 - val_loss: 0.5084 - val_accuracy: 0.7806 - val_auc: 0.8408\n",
            "Epoch 20/50\n",
            "21/21 [==============================] - 0s 16ms/step - loss: 0.3353 - accuracy: 0.8600 - auc: 0.9200 - val_loss: 0.5103 - val_accuracy: 0.7802 - val_auc: 0.8383\n",
            "Epoch 21/50\n",
            "21/21 [==============================] - 0s 18ms/step - loss: 0.3237 - accuracy: 0.8645 - auc: 0.9284 - val_loss: 0.5171 - val_accuracy: 0.7820 - val_auc: 0.8408\n",
            "Epoch 22/50\n",
            "21/21 [==============================] - 0s 16ms/step - loss: 0.3241 - accuracy: 0.8712 - auc: 0.9238 - val_loss: 0.5293 - val_accuracy: 0.7776 - val_auc: 0.8392\n",
            "Epoch 23/50\n",
            "21/21 [==============================] - 0s 16ms/step - loss: 0.3220 - accuracy: 0.8719 - auc: 0.9266 - val_loss: 0.5271 - val_accuracy: 0.7780 - val_auc: 0.8393\n",
            "Epoch 24/50\n",
            "21/21 [==============================] - 0s 17ms/step - loss: 0.3175 - accuracy: 0.8716 - auc: 0.9278 - val_loss: 0.5331 - val_accuracy: 0.7802 - val_auc: 0.8374\n",
            "Epoch 25/50\n",
            "21/21 [==============================] - 0s 16ms/step - loss: 0.3277 - accuracy: 0.8682 - auc: 0.9239 - val_loss: 0.5452 - val_accuracy: 0.7806 - val_auc: 0.8355\n",
            "Epoch 26/50\n",
            "21/21 [==============================] - 0s 16ms/step - loss: 0.3078 - accuracy: 0.8789 - auc: 0.9314 - val_loss: 0.5489 - val_accuracy: 0.7758 - val_auc: 0.8356\n",
            "Epoch 27/50\n",
            "21/21 [==============================] - 0s 17ms/step - loss: 0.3065 - accuracy: 0.8786 - auc: 0.9338 - val_loss: 0.5513 - val_accuracy: 0.7754 - val_auc: 0.8344\n",
            "Epoch 28/50\n",
            "21/21 [==============================] - 0s 17ms/step - loss: 0.3119 - accuracy: 0.8707 - auc: 0.9321 - val_loss: 0.5524 - val_accuracy: 0.7780 - val_auc: 0.8341\n",
            "Epoch 29/50\n",
            "21/21 [==============================] - 0s 17ms/step - loss: 0.2990 - accuracy: 0.8776 - auc: 0.9355 - val_loss: 0.5603 - val_accuracy: 0.7745 - val_auc: 0.8333\n",
            "Epoch 30/50\n",
            "21/21 [==============================] - 0s 17ms/step - loss: 0.3123 - accuracy: 0.8795 - auc: 0.9290 - val_loss: 0.5539 - val_accuracy: 0.7767 - val_auc: 0.8335\n",
            "Epoch 31/50\n",
            "21/21 [==============================] - 0s 17ms/step - loss: 0.3021 - accuracy: 0.8771 - auc: 0.9338 - val_loss: 0.5400 - val_accuracy: 0.7754 - val_auc: 0.8308\n",
            "Epoch 32/50\n",
            "21/21 [==============================] - 0s 16ms/step - loss: 0.2995 - accuracy: 0.8770 - auc: 0.9368 - val_loss: 0.5573 - val_accuracy: 0.7732 - val_auc: 0.8310\n",
            "Epoch 33/50\n",
            "21/21 [==============================] - 0s 17ms/step - loss: 0.2730 - accuracy: 0.8947 - auc: 0.9472 - val_loss: 0.5931 - val_accuracy: 0.7693 - val_auc: 0.8294\n",
            "Epoch 34/50\n",
            "21/21 [==============================] - 0s 17ms/step - loss: 0.2825 - accuracy: 0.8893 - auc: 0.9434 - val_loss: 0.5868 - val_accuracy: 0.7701 - val_auc: 0.8275\n",
            "Epoch 35/50\n",
            "21/21 [==============================] - 0s 16ms/step - loss: 0.2805 - accuracy: 0.8888 - auc: 0.9427 - val_loss: 0.6044 - val_accuracy: 0.7688 - val_auc: 0.8275\n",
            "Epoch 36/50\n",
            "21/21 [==============================] - 0s 17ms/step - loss: 0.2983 - accuracy: 0.8786 - auc: 0.9363 - val_loss: 0.6112 - val_accuracy: 0.7736 - val_auc: 0.8270\n",
            "Epoch 37/50\n",
            "21/21 [==============================] - 0s 16ms/step - loss: 0.2729 - accuracy: 0.8916 - auc: 0.9455 - val_loss: 0.5876 - val_accuracy: 0.7715 - val_auc: 0.8267\n",
            "Epoch 38/50\n",
            "21/21 [==============================] - 0s 16ms/step - loss: 0.2704 - accuracy: 0.8917 - auc: 0.9474 - val_loss: 0.6089 - val_accuracy: 0.7736 - val_auc: 0.8253\n",
            "Epoch 39/50\n",
            "21/21 [==============================] - 0s 18ms/step - loss: 0.2697 - accuracy: 0.8930 - auc: 0.9479 - val_loss: 0.6073 - val_accuracy: 0.7671 - val_auc: 0.8217\n",
            "Epoch 40/50\n",
            "21/21 [==============================] - 0s 16ms/step - loss: 0.2807 - accuracy: 0.8894 - auc: 0.9423 - val_loss: 0.5780 - val_accuracy: 0.7732 - val_auc: 0.8223\n",
            "Epoch 41/50\n",
            "21/21 [==============================] - 0s 17ms/step - loss: 0.2757 - accuracy: 0.8876 - auc: 0.9448 - val_loss: 0.6046 - val_accuracy: 0.7710 - val_auc: 0.8214\n",
            "Epoch 42/50\n",
            "21/21 [==============================] - 0s 16ms/step - loss: 0.2722 - accuracy: 0.8969 - auc: 0.9463 - val_loss: 0.6198 - val_accuracy: 0.7715 - val_auc: 0.8204\n",
            "Epoch 43/50\n",
            "21/21 [==============================] - 0s 16ms/step - loss: 0.2775 - accuracy: 0.8889 - auc: 0.9467 - val_loss: 0.6131 - val_accuracy: 0.7736 - val_auc: 0.8185\n",
            "Epoch 44/50\n",
            "21/21 [==============================] - 0s 16ms/step - loss: 0.2585 - accuracy: 0.8989 - auc: 0.9515 - val_loss: 0.6393 - val_accuracy: 0.7701 - val_auc: 0.8172\n",
            "Epoch 45/50\n",
            "21/21 [==============================] - 0s 16ms/step - loss: 0.2639 - accuracy: 0.8955 - auc: 0.9496 - val_loss: 0.6411 - val_accuracy: 0.7680 - val_auc: 0.8184\n",
            "Epoch 46/50\n",
            "21/21 [==============================] - 0s 17ms/step - loss: 0.2600 - accuracy: 0.8982 - auc: 0.9501 - val_loss: 0.6480 - val_accuracy: 0.7636 - val_auc: 0.8161\n",
            "Epoch 47/50\n",
            "21/21 [==============================] - 0s 17ms/step - loss: 0.2530 - accuracy: 0.9027 - auc: 0.9521 - val_loss: 0.6429 - val_accuracy: 0.7662 - val_auc: 0.8134\n",
            "Epoch 48/50\n",
            "21/21 [==============================] - 0s 16ms/step - loss: 0.2478 - accuracy: 0.9079 - auc: 0.9530 - val_loss: 0.6662 - val_accuracy: 0.7680 - val_auc: 0.8135\n",
            "Epoch 49/50\n",
            "21/21 [==============================] - 0s 16ms/step - loss: 0.2498 - accuracy: 0.9061 - auc: 0.9524 - val_loss: 0.7050 - val_accuracy: 0.7583 - val_auc: 0.8117\n",
            "Epoch 50/50\n",
            "21/21 [==============================] - 0s 19ms/step - loss: 0.2643 - accuracy: 0.8993 - auc: 0.9495 - val_loss: 0.6766 - val_accuracy: 0.7649 - val_auc: 0.8133\n",
            "CPU times: user 22.1 s, sys: 1.61 s, total: 23.7 s\n",
            "Wall time: 20.6 s\n"
          ],
          "name": "stdout"
        }
      ]
    },
    {
      "cell_type": "code",
      "metadata": {
        "colab": {
          "base_uri": "https://localhost:8080/"
        },
        "id": "9ku2YvoZkj-Q",
        "outputId": "fa6fc683-3902-47ae-c571-fdc43c44bb01"
      },
      "source": [
        "model.evaluate(x_valid, y_valid, batch_size = 64)"
      ],
      "execution_count": 63,
      "outputs": [
        {
          "output_type": "stream",
          "text": [
            "36/36 [==============================] - 0s 6ms/step - loss: 0.6766 - accuracy: 0.7649 - auc: 0.8133\n"
          ],
          "name": "stdout"
        },
        {
          "output_type": "execute_result",
          "data": {
            "text/plain": [
              "[0.6766003966331482, 0.7648861408233643, 0.8133082985877991]"
            ]
          },
          "metadata": {
            "tags": []
          },
          "execution_count": 63
        }
      ]
    },
    {
      "cell_type": "code",
      "metadata": {
        "id": "woNhyylorgDo"
      },
      "source": [
        "x_test = test.text"
      ],
      "execution_count": 64,
      "outputs": []
    },
    {
      "cell_type": "code",
      "metadata": {
        "id": "qsJhrMmosfF3"
      },
      "source": [
        "x_test_seqs = tokenizer.texts_to_sequences(x_test)\n",
        "x_test = tf.keras.preprocessing.sequence.pad_sequences(x_test_seqs, maxlen=max_l)"
      ],
      "execution_count": 65,
      "outputs": []
    },
    {
      "cell_type": "code",
      "metadata": {
        "colab": {
          "base_uri": "https://localhost:8080/"
        },
        "id": "f56JLzhEsl3Z",
        "outputId": "f57e1894-74dd-4f75-dab3-bcbc9fd6ddd9"
      },
      "source": [
        "y_pred_test = np.round(model.predict(x_test)).astype(int)\n",
        "y_pred_test"
      ],
      "execution_count": 66,
      "outputs": [
        {
          "output_type": "execute_result",
          "data": {
            "text/plain": [
              "array([[1],\n",
              "       [1],\n",
              "       [1],\n",
              "       ...,\n",
              "       [1],\n",
              "       [1],\n",
              "       [0]])"
            ]
          },
          "metadata": {
            "tags": []
          },
          "execution_count": 66
        }
      ]
    },
    {
      "cell_type": "code",
      "metadata": {
        "id": "9tV2AF0TtDBm"
      },
      "source": [
        "submission = pd.read_csv('/content/drive/MyDrive/Elbrus/sample_submission.csv')\n",
        "submission['target'] = y_pred_test\n",
        "submission.to_csv('submission_4.csv', index=False)"
      ],
      "execution_count": 67,
      "outputs": []
    },
    {
      "cell_type": "code",
      "metadata": {
        "id": "8k_uLiO1uP9T"
      },
      "source": [
        ""
      ],
      "execution_count": 67,
      "outputs": []
    }
  ]
}