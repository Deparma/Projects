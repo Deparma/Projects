{
 "cells": [
  {
   "cell_type": "markdown",
   "id": "2b07c50b",
   "metadata": {},
   "source": [
    "## Импортируйте необходимые библиотеки"
   ]
  },
  {
   "cell_type": "code",
   "execution_count": 1,
   "id": "2a0ca34c",
   "metadata": {},
   "outputs": [],
   "source": [
    "import pandas as pd\n",
    "import numpy as np\n",
    "\n",
    "from sklearn.feature_extraction.text import TfidfVectorizer, CountVectorizer\n",
    "from sklearn.preprocessing import LabelEncoder\n",
    "import nltk\n",
    "\n",
    "import re\n",
    "\n",
    "import gc"
   ]
  },
  {
   "cell_type": "code",
   "execution_count": null,
   "id": "7c831918",
   "metadata": {},
   "outputs": [],
   "source": [
    "df_review = pd.read_csv('IMDB Dataset.csv')"
   ]
  },
  {
   "cell_type": "markdown",
   "id": "361891f7",
   "metadata": {},
   "source": [
    "## Проанализируйте выборку (сбалансированность классов, пропуски и пр.)"
   ]
  },
  {
   "cell_type": "code",
   "execution_count": null,
   "id": "2f736ea0",
   "metadata": {},
   "outputs": [],
   "source": [
    "review = df_review\n",
    "review"
   ]
  },
  {
   "cell_type": "code",
   "execution_count": null,
   "id": "36096601",
   "metadata": {},
   "outputs": [],
   "source": [
    "review.sentiment.value_counts()"
   ]
  },
  {
   "cell_type": "code",
   "execution_count": null,
   "id": "885880e0",
   "metadata": {},
   "outputs": [],
   "source": [
    "review.info()"
   ]
  },
  {
   "cell_type": "markdown",
   "id": "57958d9b",
   "metadata": {},
   "source": [
    "## Примените LabelEncoding целевой переменной (sklearn)"
   ]
  },
  {
   "cell_type": "code",
   "execution_count": null,
   "id": "d712bcab",
   "metadata": {},
   "outputs": [],
   "source": [
    "le = LabelEncoder()\n",
    "df_review['sentiment_encoded'] = le.fit_transform(df_review['sentiment'])\n",
    "df_review"
   ]
  },
  {
   "cell_type": "markdown",
   "id": "bee88d34",
   "metadata": {},
   "source": [
    "## Препроцессинг текста (надо применить к каждому отзыву):"
   ]
  },
  {
   "cell_type": "markdown",
   "id": "1014d30f",
   "metadata": {},
   "source": [
    "приведите все символы к нижнему регистру, \n",
    "удалить знаки препинания, \n",
    "цифры"
   ]
  },
  {
   "cell_type": "code",
   "execution_count": null,
   "id": "a4d7efb2",
   "metadata": {},
   "outputs": [],
   "source": [
    "def clean(text):\n",
    "    text = text.lower()\n",
    "    text = re.sub(r'\\d+', ' ', text)\n",
    "    text = re.sub(r'<[^>]+>',' ', text)\n",
    "    text = re.sub(r'[^\\w\\s]',' ', text)\n",
    "#     text = re.sub(r'@\\w+',' ',text)\n",
    "#     text = re.sub(r'#\\w+', ' ', text)\n",
    "#     text = re.sub(r'<.*?>',' ', text)\n",
    "#     punctuation = ['']\n",
    "#     for i in punctuation:\n",
    "#         text = text.replace(i, '')\n",
    "#     text = text.replace(\"'\", ' ')\n",
    "#     text = text.replace('.', \" \")\n",
    "#     text = text.replace('/', \" \")\n",
    "#     text = text.replace('?', \" \")\n",
    "#     text = text.replace(':', \" \")\n",
    "#     text = text.replace('\"', \" \")\n",
    "#     text = text.replace(',', \" \")\n",
    "#     text = text.replace(':', \"\")\n",
    "    return text"
   ]
  },
  {
   "cell_type": "code",
   "execution_count": null,
   "id": "30f15720",
   "metadata": {},
   "outputs": [],
   "source": [
    "text = df_review['review']\n",
    "text.head()"
   ]
  },
  {
   "cell_type": "code",
   "execution_count": null,
   "id": "2de91fe3",
   "metadata": {},
   "outputs": [],
   "source": [
    "text = text.apply(clean)\n",
    "text.head(15)"
   ]
  },
  {
   "cell_type": "markdown",
   "id": "48b3fb0b",
   "metadata": {},
   "source": [
    "провести лемматизацию, \n",
    "очистить от стоп-слов (сравните stopwords в библиотеке nltk и gensim, \n",
    "провести токенизацию"
   ]
  },
  {
   "cell_type": "code",
   "execution_count": null,
   "id": "071faeb2",
   "metadata": {},
   "outputs": [],
   "source": [
    "from nltk.corpus import stopwords\n",
    "from nltk.stem import WordNetLemmatizer\n",
    "from nltk.tokenize import RegexpTokenizer\n",
    "import nltk\n",
    "nltk.download('wordnet')\n",
    "nltk.download('stopwords')"
   ]
  },
  {
   "cell_type": "code",
   "execution_count": null,
   "id": "8ee06398",
   "metadata": {},
   "outputs": [],
   "source": [
    "wn_lemmatizer = WordNetLemmatizer()"
   ]
  },
  {
   "cell_type": "code",
   "execution_count": null,
   "id": "882534a1",
   "metadata": {},
   "outputs": [],
   "source": [
    "lemmatized_text = []\n",
    "for review in text:\n",
    "    lemmatized_text.append(' '.join([wn_lemmatizer.lemmatize(word) for word in review.split()]))"
   ]
  },
  {
   "cell_type": "code",
   "execution_count": null,
   "id": "97b9920c",
   "metadata": {},
   "outputs": [],
   "source": [
    "reg_tokenizer = RegexpTokenizer('\\w+')"
   ]
  },
  {
   "cell_type": "code",
   "execution_count": null,
   "id": "2346aa2d",
   "metadata": {},
   "outputs": [],
   "source": [
    "tokenized_text = reg_tokenizer.tokenize_sents(lemmatized_text)"
   ]
  },
  {
   "cell_type": "code",
   "execution_count": null,
   "id": "a3e781a9",
   "metadata": {},
   "outputs": [],
   "source": [
    "sw = stopwords.words()"
   ]
  },
  {
   "cell_type": "code",
   "execution_count": null,
   "id": "7d59222b",
   "metadata": {},
   "outputs": [],
   "source": [
    "clean_tokenized_review = [] \n",
    "for i, element in enumerate(tokenized_text):\n",
    "    if i % 2000 == 0: print(i, end = ' ')\n",
    "    clean_tokenized_review.append(' '.join([word for word in element if word not in sw]))"
   ]
  },
  {
   "cell_type": "code",
   "execution_count": null,
   "id": "74cdaa8d",
   "metadata": {},
   "outputs": [],
   "source": [
    "df = pd.concat([pd.Series(clean_tokenized_review, name='review'), \n",
    "                pd.Series(df_review['sentiment_encoded'], name='sentiment')], \n",
    "               axis=1)"
   ]
  },
  {
   "cell_type": "code",
   "execution_count": null,
   "id": "d9084951",
   "metadata": {},
   "outputs": [],
   "source": [
    "df"
   ]
  },
  {
   "cell_type": "code",
   "execution_count": null,
   "id": "bd17ee5c",
   "metadata": {},
   "outputs": [],
   "source": [
    "df.to_csv('clean_reviews', index=False)"
   ]
  },
  {
   "cell_type": "code",
   "execution_count": 2,
   "id": "d4ef38c3",
   "metadata": {},
   "outputs": [],
   "source": [
    "df = pd.read_csv('clean_reviews')"
   ]
  },
  {
   "cell_type": "code",
   "execution_count": 4,
   "id": "3cf83bd8",
   "metadata": {},
   "outputs": [],
   "source": [
    "cvec = CountVectorizer(ngram_range=(1, 2))\n",
    "tfid = TfidfVectorizer(ngram_range=(1, 2))"
   ]
  },
  {
   "cell_type": "code",
   "execution_count": 5,
   "id": "48e5818a",
   "metadata": {},
   "outputs": [],
   "source": [
    "cvec_representation = cvec.fit_transform(df['review'])\n",
    "tfid_representation = tfid.fit_transform(df['review'])"
   ]
  },
  {
   "cell_type": "code",
   "execution_count": 6,
   "id": "9c41b632",
   "metadata": {},
   "outputs": [],
   "source": [
    "from sklearn.model_selection import train_test_split"
   ]
  },
  {
   "cell_type": "code",
   "execution_count": 7,
   "id": "8ba08781",
   "metadata": {},
   "outputs": [],
   "source": [
    "x_train, x_test, y_train, y_test = train_test_split(cvec_representation,\n",
    "                                                    df['sentiment'], test_size=0.2, random_state=900)"
   ]
  },
  {
   "cell_type": "code",
   "execution_count": null,
   "id": "e829a6b8",
   "metadata": {},
   "outputs": [],
   "source": [
    "# from sklearn.naive_bayes import MultinomialNB\n",
    "# from sklearn.linear_model import LogisticRegression\n",
    "# from sklearn.svm import SVC\n",
    "# from sklearn.model_selection import cross_val_score"
   ]
  },
  {
   "cell_type": "code",
   "execution_count": null,
   "id": "afffb54f",
   "metadata": {},
   "outputs": [],
   "source": [
    "# mnb = MultinomialNB()\n",
    "# lrc = LogisticRegression()\n",
    "# svc = SVC()"
   ]
  },
  {
   "cell_type": "code",
   "execution_count": null,
   "id": "4036872b",
   "metadata": {},
   "outputs": [],
   "source": [
    "# clfs = {\n",
    "#     'MultiNB' : mnb, \n",
    "#     'LogisticRegression' : lrc,\n",
    "#     'SVM' : svc\n",
    "# }"
   ]
  },
  {
   "cell_type": "code",
   "execution_count": 9,
   "id": "5bca1102",
   "metadata": {},
   "outputs": [],
   "source": [
    "from sklearn.ensemble import RandomForestClassifier\n",
    "from sklearn.metrics import accuracy_score"
   ]
  },
  {
   "cell_type": "code",
   "execution_count": 11,
   "id": "8c5ccbc2",
   "metadata": {},
   "outputs": [],
   "source": [
    "rf = RandomForestClassifier()"
   ]
  },
  {
   "cell_type": "code",
   "execution_count": 12,
   "id": "8f3c8388",
   "metadata": {},
   "outputs": [
    {
     "data": {
      "text/plain": [
       "RandomForestClassifier()"
      ]
     },
     "execution_count": 12,
     "metadata": {},
     "output_type": "execute_result"
    }
   ],
   "source": [
    "rf.fit(x_train, y_train)\n",
    "# y_pred_rf = rf.predict(x_test)\n",
    "# print(f'RandomForest accuracy: {accuracy_score(y_test, y_pred_rf)}')"
   ]
  },
  {
   "cell_type": "code",
   "execution_count": 13,
   "id": "f108d117",
   "metadata": {},
   "outputs": [
    {
     "name": "stdout",
     "output_type": "stream",
     "text": [
      "RandomForest accuracy: 0.8593\n"
     ]
    }
   ],
   "source": [
    "y_pred_rf = rf.predict(x_test)\n",
    "print(f'RandomForest accuracy: {accuracy_score(y_test, y_pred_rf)}')"
   ]
  },
  {
   "cell_type": "code",
   "execution_count": null,
   "id": "5d80c2f9",
   "metadata": {},
   "outputs": [],
   "source": []
  }
 ],
 "metadata": {
  "kernelspec": {
   "display_name": "Python 3",
   "language": "python",
   "name": "python3"
  },
  "language_info": {
   "codemirror_mode": {
    "name": "ipython",
    "version": 3
   },
   "file_extension": ".py",
   "mimetype": "text/x-python",
   "name": "python",
   "nbconvert_exporter": "python",
   "pygments_lexer": "ipython3",
   "version": "3.8.8"
  }
 },
 "nbformat": 4,
 "nbformat_minor": 5
}
